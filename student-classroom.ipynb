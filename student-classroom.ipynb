{
 "cells": [
  {
   "cell_type": "code",
   "execution_count": 25,
   "id": "6c3ccda6-fa69-497d-8adb-57b575e3c4d0",
   "metadata": {},
   "outputs": [
    {
     "name": "stdout",
     "output_type": "stream",
     "text": [
      "16.26\n",
      "student averages :  [20.  16.  19.  14.  17.8 12.6 15.  18.2 16.4 13.6]\n",
      "student averages_lesson :  [15.8 16.3 16.3 16.7 16.2]\n"
     ]
    }
   ],
   "source": [
    "import numpy as np\n",
    "grades=np.array([\n",
    "    [20,20,20,20,20],\n",
    "    [15,17,16,16,16],\n",
    "    [18,19,19,20,19],\n",
    "    [14,13,14,15,14],\n",
    "    [17,18,18,18,18],\n",
    "    [12,12,13,13,13],\n",
    "    [15,16,15,15,14],\n",
    "    [18,18,18,19,18],\n",
    "    [16,17,16,17,16],\n",
    "    [13,13,14,14,14],\n",
    "    \n",
    "])\n",
    "class_average=np.mean(grades)\n",
    "print(class_average)\n",
    "\n",
    "student_ave=np.mean(grades, axis=1)\n",
    "print(\"student averages : \", student_ave)\n",
    "\n",
    "student_ave=np.mean(grades, axis=0)\n",
    "print(\"student averages_lesson : \", student_ave)"
   ]
  },
  {
   "cell_type": "code",
   "execution_count": 5,
   "id": "8badb912-d881-4d68-a0ee-91e7bd37ab20",
   "metadata": {},
   "outputs": [
    {
     "name": "stdout",
     "output_type": "stream",
     "text": [
      "[0 2 7]\n",
      "top student :  [1 3 8]\n"
     ]
    }
   ],
   "source": [
    "top_student=np.argsort(student_ave)[-3:][::-1]\n",
    "print(top_student)\n",
    "print(\"top student : \", top_student +1)"
   ]
  },
  {
   "cell_type": "code",
   "execution_count": 7,
   "id": "b88efd41-e2ca-4e1e-a403-07abea499b81",
   "metadata": {},
   "outputs": [
    {
     "name": "stdout",
     "output_type": "stream",
     "text": [
      "subject averages: [15.8 16.3 16.3 16.7 16.2]\n",
      "top subject : 3\n",
      "top subject is english\n"
     ]
    }
   ],
   "source": [
    "subject_averages=np.mean(grades,axis=0)\n",
    "print(\"subject averages:\" , subject_averages)\n",
    "\n",
    "top_subject=np.argmax(subject_averages)\n",
    "print(\"top subject :\" , top_subject)\n",
    "\n",
    "subjects=[\"math\",\"physics\",\"biologhy\",\"english\",\"history\"]\n",
    "print(f\"top subject is {subjects[top_subject]}\")"
   ]
  },
  {
   "cell_type": "code",
   "execution_count": 9,
   "id": "9458057a-be55-4fbf-ba4d-73a81dc3f80a",
   "metadata": {},
   "outputs": [
    {
     "name": "stdout",
     "output_type": "stream",
     "text": [
      "[5.56 6.81 5.01 5.61 5.36]\n",
      "[2.35796522 2.60959767 2.23830293 2.36854386 2.31516738]\n"
     ]
    }
   ],
   "source": [
    "variances=np.var(grades,axis=0)\n",
    "print(variances)\n",
    "stds=np.std(grades,axis=0)\n",
    "print(stds)"
   ]
  },
  {
   "cell_type": "code",
   "execution_count": 13,
   "id": "02cd3110-c273-4c0e-947f-80dfc6e158c1",
   "metadata": {},
   "outputs": [
    {
     "name": "stdout",
     "output_type": "stream",
     "text": [
      "[ True False  True False False False False  True False False]\n",
      "3\n"
     ]
    }
   ],
   "source": [
    "top_grades=np.all(grades>17,axis=1)\n",
    "print(top_grades)\n",
    "counts=np.sum(top_grades)\n",
    "print(counts)\n"
   ]
  }
 ],
 "metadata": {
  "kernelspec": {
   "display_name": "Python [conda env:base] *",
   "language": "python",
   "name": "conda-base-py"
  },
  "language_info": {
   "codemirror_mode": {
    "name": "ipython",
    "version": 3
   },
   "file_extension": ".py",
   "mimetype": "text/x-python",
   "name": "python",
   "nbconvert_exporter": "python",
   "pygments_lexer": "ipython3",
   "version": "3.12.7"
  }
 },
 "nbformat": 4,
 "nbformat_minor": 5
}
